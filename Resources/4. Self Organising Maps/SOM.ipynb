{
 "nbformat": 4,
 "nbformat_minor": 0,
 "metadata": {
  "colab": {
   "name": "SOM.ipynb",
   "provenance": [],
   "collapsed_sections": [],
   "toc_visible": true
  },
  "kernelspec": {
   "name": "python3",
   "language": "python",
   "display_name": "Python 3 (ipykernel)"
  }
 },
 "cells": [
  {
   "cell_type": "markdown",
   "metadata": {
    "id": "t9oX7AL3nyLm",
    "colab_type": "text"
   },
   "source": [
    "#Self Organizing Map\n"
   ]
  },
  {
   "cell_type": "markdown",
   "metadata": {
    "id": "6AX0Y23PnyOI",
    "colab_type": "text"
   },
   "source": [
    "### Importing the libraries\n"
   ]
  },
  {
   "cell_type": "code",
   "metadata": {
    "id": "gaSkOFKKBB3b",
    "colab_type": "code",
    "colab": {}
   },
   "source": [
    "import numpy as np\n",
    "import pandas as pd\n",
    "import matplotlib.pyplot as plt"
   ],
   "execution_count": 240,
   "outputs": []
  },
  {
   "cell_type": "markdown",
   "metadata": {
    "id": "SCl7ERn_n539",
    "colab_type": "text"
   },
   "source": [
    "## Importing the dataset"
   ]
  },
  {
   "cell_type": "code",
   "metadata": {
    "id": "4hgeaN3CoRfl",
    "colab_type": "code",
    "colab": {}
   },
   "source": [
    "dataset = pd.read_csv('Credit_Card_Applications.csv')\n",
    "X = dataset.iloc[:, :-1].values\n",
    "y = dataset.iloc[:, -1].values"
   ],
   "execution_count": 241,
   "outputs": []
  },
  {
   "cell_type": "markdown",
   "metadata": {
    "id": "fYHJ0dd6n-d4",
    "colab_type": "text"
   },
   "source": [
    "## Feature Scaling\n"
   ]
  },
  {
   "cell_type": "code",
   "metadata": {
    "id": "sY7JiUxwoSOd",
    "colab_type": "code",
    "colab": {}
   },
   "source": [
    "from sklearn.preprocessing import MinMaxScaler\n",
    "sc = MinMaxScaler(feature_range=(0, 1))\n",
    "X = sc.fit_transform(X)"
   ],
   "execution_count": 242,
   "outputs": []
  },
  {
   "cell_type": "markdown",
   "metadata": {
    "id": "aPp-7wfNoAhR",
    "colab_type": "text"
   },
   "source": [
    "##Training the SOM\n"
   ]
  },
  {
   "cell_type": "code",
   "metadata": {
    "id": "3iuAhM6ooS0k",
    "colab_type": "code",
    "colab": {}
   },
   "source": [
    "from minisom import MiniSom\n",
    "som = MiniSom(10,\n",
    "              10,\n",
    "              X.shape[1],\n",
    "              sigma=1.0,\n",
    "              learning_rate=0.5)\n",
    "\n",
    "som.random_weights_init(X)\n",
    "som.train(X, 1000)"
   ],
   "execution_count": 243,
   "outputs": []
  },
  {
   "cell_type": "markdown",
   "metadata": {
    "id": "YiU27C-ToCnH",
    "colab_type": "text"
   },
   "source": [
    "##Visualizing the results\n"
   ]
  },
  {
   "cell_type": "code",
   "metadata": {
    "id": "XzrIX4fZoTQj",
    "colab_type": "code",
    "colab": {}
   },
   "source": [
    "from pylab import bone, pcolor, colorbar, plot, show\n",
    "bone()\n",
    "pcolor(som.distance_map().T)\n",
    "colorbar()\n",
    "markers = ['o', 's']\n",
    "colors = ['r', 'g']\n",
    "for i,j in enumerate(X):\n",
    "    win_node = som.winner(j)\n",
    "    plot(win_node[0] + 0.5,\n",
    "         win_node[1] + 0.5,\n",
    "         markers[y[i]],\n",
    "         markeredgecolor = colors[y[i]],\n",
    "         markerfacecolor = 'None',\n",
    "         markersize = 10,\n",
    "         markeredgewidth = 2)\n",
    "show()"
   ],
   "execution_count": 244,
   "outputs": [
    {
     "data": {
      "text/plain": "<Figure size 432x288 with 2 Axes>",
      "image/png": "[encoded data removed]"
     },
     "metadata": {
      "needs_background": "light"
     },
     "output_type": "display_data"
    }
   ]
  },
  {
   "cell_type": "markdown",
   "metadata": {
    "id": "4C-I_jBfoEkP",
    "colab_type": "text"
   },
   "source": [
    "## Finding the frauds\n"
   ]
  },
  {
   "cell_type": "code",
   "metadata": {
    "id": "4xd-jb8doTlM",
    "colab_type": "code",
    "colab": {}
   },
   "source": [
    "mappings = som.win_map(X)\n",
    "frauds = np.concatenate((mappings[(1,1)], mappings[(4,1)]), axis = 0)\n",
    "frauds = sc.inverse_transform(frauds)"
   ],
   "execution_count": 245,
   "outputs": []
  },
  {
   "cell_type": "markdown",
   "metadata": {
    "id": "frXqAlpo84b1",
    "colab_type": "text"
   },
   "source": [
    "##Printing the Fraunch Clients"
   ]
  },
  {
   "cell_type": "code",
   "metadata": {
    "id": "54a4NnJo8761",
    "colab_type": "code",
    "outputId": "1d7ae019-4598-4750-a64f-fdedfdc7fe48",
    "colab": {
     "base_uri": "https://localhost:8080/",
     "height": 544
    }
   },
   "source": [
    "print('Fraud Customer IDs')\n",
    "for i in frauds[:, 0]:\n",
    "  print(int(i))"
   ],
   "execution_count": 246,
   "outputs": [
    {
     "name": "stdout",
     "output_type": "stream",
     "text": [
      "Fraud Customer IDs\n",
      "15777994\n",
      "15704081\n",
      "15677112\n",
      "15722479\n",
      "15810723\n",
      "15730360\n",
      "15703177\n",
      "15733602\n",
      "15728082\n",
      "15693382\n",
      "15768449\n",
      "15752601\n",
      "15740356\n",
      "15599440\n",
      "15597709\n",
      "15642934\n",
      "15615832\n",
      "15594812\n",
      "15681509\n",
      "15591010\n",
      "15587266\n",
      "15567860\n",
      "15625311\n",
      "15604130\n",
      "15668889\n",
      "15590234\n",
      "15620832\n",
      "15624423\n",
      "15604196\n",
      "15613673\n"
     ]
    }
   ]
  }
 ]
}